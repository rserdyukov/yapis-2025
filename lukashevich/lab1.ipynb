{
 "cells": [
  {
   "cell_type": "markdown",
   "id": "2ab61eb7",
   "metadata": {},
   "source": [
    "Язык для работы с изображениями\n",
    "Встроенные типы: image, pixel, color\n",
    "Встроенные функции загрузки и сохранения изображения, трансформации изображения"
   ]
  },
  {
   "cell_type": "markdown",
   "id": "47721b7c",
   "metadata": {},
   "source": [
    "Свойства:\n",
    "1. Объявление переменных: Явное\n",
    "2. Преобразование типов: Явное, например, a = (int) b\n",
    "3. Оператор присваивания: Одноцелевой, например, a = b\n",
    "4. Структуры, ограничивающие область видимости: Подпрограммы и блочные операторы\n",
    "5. Маркер блочного оператора: Явные, например, { } или begin end\n",
    "6. Условные операторы: Двух вариантный оператор if-then-else\n",
    "7. Перегрузка подпрограмм: Отсутствует\n",
    "8. Передача параметров в подпрограмму: По ссылке\n",
    "10. Допустимое место объявления подпрограмм: В начале программы"
   ]
  },
  {
   "cell_type": "markdown",
   "id": "318f5418",
   "metadata": {},
   "source": [
    "Целевой код:\n",
    "Байт-код .NET, формат промежуточного кода ассемблер для .NET (CIL)"
   ]
  },
  {
   "cell_type": "markdown",
   "id": "73b140e6",
   "metadata": {},
   "source": [
    "Пример 1. Заменяет цвет фона"
   ]
  },
  {
   "cell_type": "code",
   "execution_count": null,
   "id": "5a5445ee",
   "metadata": {
    "vscode": {
     "languageId": "plaintext"
    }
   },
   "outputs": [],
   "source": [
    "func calculate_brightness(color c) -> int {\n",
    "    int brightness = ((c.R + c.G + c.B) / 3) as int\n",
    "    return brightness\n",
    "}\n",
    "\n",
    "func replace_color(image img, color old_color, color new_color) {\n",
    "    for pixel p in img {\n",
    "        color current_color = p.get_color()\n",
    "\n",
    "        if current_color == old_color then {\n",
    "            if calculate_brightness(current_color) > 50 then {\n",
    "                p.set_color(new_color)\n",
    "            }\n",
    "        }\n",
    "    }\n",
    "}\n",
    "\n",
    "func main() {\n",
    "    image source_image\n",
    "    color green_screen_color\n",
    "    color blue_sky_color\n",
    "\n",
    "    source_image = load(\"me_on_greenscreen.jpg\")\n",
    "    green_screen_color = color(23, 23, 23) \n",
    "    blue_sky_color = color(22, 22, 22)  \n",
    "\n",
    "    replace_color(source_image, green_screen_color, blue_sky_color)\n",
    "\n",
    "    save(source_image, \"me_on_blue.jpg\")\n",
    "}"
   ]
  },
  {
   "cell_type": "markdown",
   "id": "53e9ada6",
   "metadata": {},
   "source": [
    "Пример 2. "
   ]
  },
  {
   "cell_type": "code",
   "execution_count": null,
   "id": "48269b95",
   "metadata": {
    "vscode": {
     "languageId": "plaintext"
    }
   },
   "outputs": [],
   "source": [
    "func darken_pixel(color c, float factor) {\n",
    "    c.R = (c.R * factor) as int\n",
    "    c.G = (c.G * factor) as int\n",
    "    c.B = (c.B * factor) as int\n",
    "}\n",
    "\n",
    "func apply_vignette(image &img) {\n",
    "    int center_x = (img.width / 2) as int\n",
    "    int center_y = (img.height / 2) as int\n",
    "\n",
    "    float max_distance = sqrt(center_x * center_x + center_y * center_y)\n",
    "\n",
    "    for pixel p in img {\n",
    "        int dx = p.x - center_x\n",
    "        int dy = p.y - center_y\n",
    "        float distance = sqrt(dx * dx + dy * dy)\n",
    "\n",
    "        float darkness_factor = 1.0 - (distance / max_distance)\n",
    "\n",
    "        if darkness_factor < 0.8 then {\n",
    "            color current_color = p.get_color()\n",
    "            darken_pixel(current_color, darkness_factor)\n",
    "            p.set_color(current_color)\n",
    "        }\n",
    "    }\n",
    "}\n",
    "\n",
    "func main() {\n",
    "    image my_photo\n",
    "\n",
    "    my_photo = load(\"photo.png\")\n",
    "    apply_vignette(my_photo)\n",
    "\n",
    "    save(my_photo, \"photo_vignette.png\")\n",
    "}"
   ]
  },
  {
   "cell_type": "markdown",
   "id": "45a0ba1f",
   "metadata": {},
   "source": [
    "Пример 3"
   ]
  },
  {
   "cell_type": "code",
   "execution_count": null,
   "id": "c5f7678a",
   "metadata": {
    "vscode": {
     "languageId": "plaintext"
    }
   },
   "outputs": [],
   "source": [
    "func overlay_image(image base_img, image watermark_img, int offset_x, int offset_y) {\n",
    "    for pixel p_watermark in watermark_img {\n",
    "            int target_x = offset_x + p_watermark.x\n",
    "            int target_y = offset_y + p_watermark.y\n",
    "\n",
    "            pixel p_base = base_img.get_pixel(target_x, target_y)\n",
    "\n",
    "            p_base.set_color(p_watermark.get_color())\n",
    "    }\n",
    "}\n",
    "\n",
    "func main() {\n",
    "    image photo\n",
    "    image logo\n",
    "\n",
    "    photo = load(\"photo.png\")\n",
    "    logo = load(\"watermark.png\")\n",
    "\n",
    "    int pos_x = photo.width - logo.width - 10 \n",
    "    int pos_y = photo.height - logo.height - 10\n",
    "\n",
    "    overlay_image(photo, logo, pos_x, pos_y)\n",
    "\n",
    "    save(photo, \"photo_with_watermark.png\")\n",
    "}"
   ]
  }
 ],
 "metadata": {
  "language_info": {
   "name": "python"
  }
 },
 "nbformat": 4,
 "nbformat_minor": 5
}
